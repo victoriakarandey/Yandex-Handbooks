{
 "cells": [
  {
   "cell_type": "code",
   "execution_count": null,
   "id": "65b90cf6",
   "metadata": {},
   "outputs": [],
   "source": [
    "Привет, всем!"
   ]
  },
  {
   "cell_type": "code",
   "execution_count": null,
   "id": "0ea744ae",
   "metadata": {},
   "outputs": [],
   "source": [
    "name = input()\n",
    "print(f'Как Вас зовут?\\nПривет, {name}')"
   ]
  },
  {
   "cell_type": "code",
   "execution_count": null,
   "id": "6651fc46",
   "metadata": {},
   "outputs": [],
   "source": [
    "Излишняя автоматизация"
   ]
  },
  {
   "cell_type": "code",
   "execution_count": null,
   "id": "e6961692",
   "metadata": {},
   "outputs": [],
   "source": [
    "abc = input()\n",
    "print(f'{abc}\\n' * 3)"
   ]
  },
  {
   "cell_type": "code",
   "execution_count": null,
   "id": "af202a81",
   "metadata": {},
   "outputs": [],
   "source": [
    "Сдача"
   ]
  },
  {
   "cell_type": "code",
   "execution_count": null,
   "id": "431b0b43",
   "metadata": {},
   "outputs": [],
   "source": [
    "money = int(input())\n",
    "sdacha = money - 2.5 * 38\n",
    "print(int(sdacha))"
   ]
  },
  {
   "cell_type": "code",
   "execution_count": null,
   "id": "b453ca6c",
   "metadata": {},
   "outputs": [],
   "source": [
    "Магазин"
   ]
  },
  {
   "cell_type": "code",
   "execution_count": null,
   "id": "848d22ff",
   "metadata": {},
   "outputs": [],
   "source": [
    "price, weight, money = int(input()), int(input()), int(input())\n",
    "sdacha = money - price * weight\n",
    "print(int(sdacha))"
   ]
  },
  {
   "cell_type": "code",
   "execution_count": null,
   "id": "93619ed9",
   "metadata": {},
   "outputs": [],
   "source": [
    "Чек"
   ]
  },
  {
   "cell_type": "code",
   "execution_count": null,
   "id": "67d59cfe",
   "metadata": {},
   "outputs": [],
   "source": [
    "name, price, weight, money = input(), int(input()), int(input()), int(input())\n",
    "print(f'Чек\\n{name} - {weight}кг - {price}руб/кг')\n",
    "print(f'Итого: {price * weight}руб\\nВнесено: {money}руб')\n",
    "print(f'Сдача: {int(money - price * weight)}руб')"
   ]
  },
  {
   "cell_type": "code",
   "execution_count": null,
   "id": "9444f629",
   "metadata": {},
   "outputs": [],
   "source": [
    "Делу — время, потехе — час"
   ]
  },
  {
   "cell_type": "code",
   "execution_count": null,
   "id": "7b9a5463",
   "metadata": {},
   "outputs": [],
   "source": [
    "n = int(input())\n",
    "print(f'Я Купи слона!\\n' * n)"
   ]
  },
  {
   "cell_type": "code",
   "execution_count": null,
   "id": "db4fa6b5",
   "metadata": {},
   "outputs": [],
   "source": [
    "Наказание"
   ]
  },
  {
   "cell_type": "code",
   "execution_count": null,
   "id": "42157eed",
   "metadata": {},
   "outputs": [],
   "source": [
    "n, part = int(input()), input()\n",
    "print(f'Я больше никогда не буду писать \"{part}\"!\\n' * n)"
   ]
  },
  {
   "cell_type": "markdown",
   "id": "4d2dfb26",
   "metadata": {},
   "source": [
    "Деловая колбаса\n",
    "\n",
    "В детском саду 2 ребенка съедают 2 куска колбасы за 2 минуты. Сколько кусков колбасы за \n",
    "N минут съедят \n",
    "M детей?\n",
    "\n",
    "Формат ввода\n",
    "В первой строке записано натуральное число \n",
    "N≥1\n",
    "Во второй строке записано натуральное число\n",
    "M≥1\n",
    "\n",
    "Формат вывода\n",
    "Одно натуральное число — количество кусков колбасы, съеденных детьми\n",
    "\n",
    "Примечание\n",
    "Гарантируется, что в результате вычислений будет получено натуральное число."
   ]
  },
  {
   "cell_type": "code",
   "execution_count": null,
   "id": "fe0f5015",
   "metadata": {},
   "outputs": [],
   "source": [
    "time = int(input())\n",
    "kids = int(input())\n",
    "'''В детском саду 2 ребенка съедают 2 куска колбасы за 2 минуты.'''\n",
    "'''один кусок колбасы в две минуты'''\n",
    "pieces = time * kids // 2\n",
    "print(pieces)"
   ]
  },
  {
   "cell_type": "markdown",
   "id": "cd42323a",
   "metadata": {},
   "source": [
    "Детский сад — штаны на лямках"
   ]
  },
  {
   "cell_type": "code",
   "execution_count": null,
   "id": "0174e8e8",
   "metadata": {},
   "outputs": [],
   "source": [
    "name, number = input(), int(input())\n",
    "group = number // 100\n",
    "bed = number // 10 % 10\n",
    "order = number % 10\n",
    "\n",
    "print(f'Группа №{group}.\\n{order}. {name}.\\nШкафчик: {number}.\\nКроватка: {bed}.')"
   ]
  },
  {
   "cell_type": "markdown",
   "id": "d6f084a4",
   "metadata": {},
   "source": [
    "Автоматизация игры\n",
    "\n",
    "Всё в том же детском саду ребята очень любят играть с цифрами.\n",
    "Одна из таких игр — перестановка цифр четырёхзначного числа.\n",
    "Напишите программу для робота-няни, которая из числа вида abcd составляет число badc.\n",
    "\n",
    "Формат ввода\n",
    "Одно четырёхзначное число.\n",
    "\n",
    "Формат вывода\n",
    "Одно четырёхзначное число — результат перестановки."
   ]
  },
  {
   "cell_type": "code",
   "execution_count": null,
   "id": "0a607d29",
   "metadata": {},
   "outputs": [],
   "source": [
    "number = int(input())\n",
    "a = number // 1000\n",
    "b = number // 100 % 10\n",
    "c = number % 100 // 10\n",
    "d = number % 10\n",
    "print(f'{b}{a}{d}{c}')"
   ]
  },
  {
   "cell_type": "markdown",
   "id": "a71aced7",
   "metadata": {},
   "source": [
    "Интересное сложение\n",
    "\n",
    "Один малыш из детского сада услышал от старшей сестры о некоем действии с числами — сложении.\n",
    "И как это часто бывает — он не до конца разобрался, как работает сложение. Например, не совсем понял, как произвести перенос разряда.\n",
    "Теперь он хочет научить сложению остальных ребят и просит написать программу, которая поможет ему в качестве наглядного материала.\n",
    "\n",
    "Формат ввода\n",
    "В первой и второй строках записаны натуральные числа меньше 1000.\n",
    "\n",
    "Формат вывода\n",
    "Одно число — результат сложения введённых чисел без учёта переносов."
   ]
  },
  {
   "cell_type": "code",
   "execution_count": null,
   "id": "ab2022e2",
   "metadata": {},
   "outputs": [],
   "source": [
    "a, b = int(input()), int(input())\n",
    "last_digit = ((a % 10) + (b % 10)) % 10\n",
    "middle_digit = ((a // 10 % 10) + (b // 10 % 10)) % 10\n",
    "first_digit = ((a // 100) + (b // 100)) % 10\n",
    "print(f'{first_digit}{middle_digit}{last_digit}')"
   ]
  },
  {
   "cell_type": "markdown",
   "id": "da08200a",
   "metadata": {},
   "source": [
    "Дед Мороз и конфеты\n",
    "Настало самое главное событие в детском саду — новогодний утренник.\n",
    "Хорошо замаскированная робоняня в роли Деда Мороза решила раздать детям конфеты так, чтобы каждому досталось поровну. Напишите для робоняни алгоритм, который поможет распределить конфеты.\n",
    "\n",
    "Формат ввода\n",
    "В первой строке указано количество детей на утреннике.\n",
    "Во второй строке — количество конфет в конфетном отсеке робоняни.\n",
    "\n",
    "Формат вывода\n",
    "Сначала выведите количество конфет, которое выдано каждому ребенку, а затем количество конфет, что осталось в конфетном отсеке."
   ]
  },
  {
   "cell_type": "code",
   "execution_count": null,
   "id": "9a985410",
   "metadata": {},
   "outputs": [],
   "source": [
    "kids, sweets = int(input()), int(input())\n",
    "got = sweets // kids\n",
    "print(got)\n",
    "print(sweets - got * kids)"
   ]
  },
  {
   "cell_type": "markdown",
   "id": "e6a9bdbb",
   "metadata": {},
   "source": [
    "Шарики и ручки\n",
    "Иногда ребята в детском саду скучают, поэтому они постоянно придумывают себе не очень сложные, но веселые, по их мнению, игры.\n",
    "В группе есть ящик с шариками, количество которых детям заранее неизвестно, следующих цветов:\n",
    "\n",
    "красный;\n",
    "зеленый;\n",
    "синий.\n",
    "Игра заключается в том, что каждый ребенок подходит к ящику и, не глядя, вытаскивает один шарик, победителем считается тот, кто первым вытащит зелёный шарик.\n",
    "Как вы думаете, через какое максимальное количество ходов дети выяснят победителя игры?\n",
    "\n",
    "Формат ввода\n",
    "Три натуральных числа, каждое на новой строке (количество красных, зеленых и синих шаров соответственно).\n",
    "\n",
    "Формат вывода\n",
    "Одно число — максимальное количество ходов, которое потребуется для определения победителя."
   ]
  },
  {
   "cell_type": "code",
   "execution_count": null,
   "id": "eb7836c8",
   "metadata": {},
   "outputs": [],
   "source": [
    "red, green, blue = int(input()), int(input()), int(input())\n",
    "print(red + blue + 1)"
   ]
  },
  {
   "cell_type": "markdown",
   "id": "185bbb24",
   "metadata": {},
   "source": [
    "В ожидании доставки\n",
    "Сегодня в N часов M минут хозяин магазина заказал доставку нового товара. Оператор сказал, что продукты доставят через T минут.\n",
    "Сколько будет времени на электронных часах, когда привезут долгожданные продукты?\n",
    "\n",
    "Формат ввода\n",
    "В первой строке записано натуральное число \n",
    "0≤N<24\n",
    "\n",
    "Во второй строке записано натуральное число \n",
    "0≤M<60\n",
    "\n",
    "В третьей строке записано натуральное число \n",
    "30≤T<10^9\n",
    "\n",
    "Формат вывода\n",
    "Одна строка, представляющая циферблат электронных часов."
   ]
  },
  {
   "cell_type": "code",
   "execution_count": null,
   "id": "6e3954c5",
   "metadata": {},
   "outputs": [],
   "source": [
    "hours, minutes, minutes_left = int(input()), int(input()), int(input())\n",
    "\n",
    "hl = (hours * 60 + minutes + minutes_left) // 60 % 24\n",
    "ml = (hours * 60 + minutes + minutes_left) % 60\n",
    "\n",
    "print(f'{hl:02d}:{ml:02d}')\n"
   ]
  },
  {
   "cell_type": "markdown",
   "id": "b11551bc",
   "metadata": {},
   "source": [
    "\n",
    "Продуктовый склад и магазин находятся на одной дороге города Н.\n",
    "Склад находится на отметке A км, а магазин — \n",
    "B км. Средняя скорость автомобиля, доставляющего товары, C км/ч.\n",
    "За какое время продукты попадают со склада в магазин?\n",
    "\n",
    "Формат ввода\n",
    "Три натуральных числа \n",
    "A, B и C, каждое на отдельной строке.\n",
    "\n",
    "Формат вывода\n",
    "Одно рациональное число с точностью до сотых."
   ]
  },
  {
   "cell_type": "code",
   "execution_count": null,
   "id": "91a7ed15",
   "metadata": {},
   "outputs": [],
   "source": [
    "a, b, c = int(input()), int(input()), int(input())\n",
    "abc = round((b - a) / c, 2)\n",
    "print(abc)"
   ]
  },
  {
   "cell_type": "markdown",
   "id": "65603e45",
   "metadata": {},
   "source": [
    "Ошибка кассового аппарата\n",
    "\n",
    "Мы уже помогали магазину с расчётами и формированием чеков, но сегодня кассовый аппарат вместо привычных продавцу десятичных чисел начал выдавать двоичные.\n",
    "Техподдержка приедет только завтра, а магазин должен продолжать работать. Надо помочь.\n",
    "\n",
    "Формат ввода\n",
    "\n",
    "В первой строке записано десятичное число — общая сумма купленных в магазине товаров на данный момент.\n",
    "Во второй строке указано двоичное число — сумма за последнюю покупку.\n",
    "\n",
    "Формат вывода\n",
    "\n",
    "Одно десятичное число — сумма прибыли за день с учётом последней покупки."
   ]
  },
  {
   "cell_type": "code",
   "execution_count": null,
   "id": "5bae9a77",
   "metadata": {},
   "outputs": [],
   "source": [
    "summ, latest = int(input()), input()\n",
    "latest = int(latest, 2)\n",
    "print(latest + summ)"
   ]
  },
  {
   "cell_type": "markdown",
   "id": "299fb38a",
   "metadata": {},
   "source": [
    "Сдача\n",
    "\n",
    "Кстати, несмотря на ошибку аппарата, сдачу тоже нужно отдавать.\n",
    "\n",
    "Формат ввода\n",
    "\n",
    "Цена покупки — двоичное число, выданное кассовым аппаратом.\n",
    "Номинал купюры пользователя — десятичное число (≥100).\n",
    "\n",
    "Формат вывода\n",
    "\n",
    "Одно десятичное число — сдача, которую требуется отдать пользователю.\n",
    "\n",
    "Примечание\n",
    "Все числа, используемые в задаче, целые."
   ]
  },
  {
   "cell_type": "code",
   "execution_count": null,
   "id": "44c41135",
   "metadata": {},
   "outputs": [],
   "source": [
    "price, bill = input(), int(input())\n",
    "price = int(price, 2)\n",
    "print(bill - price)"
   ]
  },
  {
   "cell_type": "markdown",
   "id": "06a71aac",
   "metadata": {},
   "source": [
    "Украшение чека\n",
    "\n",
    "Давайте приведём в порядок чек, который печатали ранее.\n",
    "Все строки должны быть длиной в 35 символов.\n",
    "\n",
    "Формат ввода\n",
    "Название товара;\n",
    "цена товара;\n",
    "вес товара;\n",
    "количество денег у пользователя.\n",
    "Формат вывода\n",
    "Красивый чек \n"
   ]
  },
  {
   "cell_type": "code",
   "execution_count": null,
   "id": "9da7e6ea",
   "metadata": {},
   "outputs": [],
   "source": [
    "name, price, weight, money = input(), int(input()), int(input()), int(input())\n",
    "receipt = 'Чек'\n",
    "empt = '='\n",
    "price_rec = f'{weight}кг * {price}руб/кг'\n",
    "total = f'{weight * price}руб'\n",
    "give = f'{money}руб'\n",
    "take = f'{money - (weight * price)}руб'\n",
    "print(f'{receipt:=^35}')\n",
    "print(f'Товар:{name:>29}')\n",
    "print(f'Цена:{price_rec:>30}')\n",
    "print(f'Итого:{total:>29}')\n",
    "print(f'Внесено:{give:>27}')\n",
    "print(f'Сдача:{take:>29}')\n",
    "print(f'{35 * empt}')"
   ]
  },
  {
   "cell_type": "markdown",
   "id": "75da787a",
   "metadata": {},
   "source": [
    "Мухи отдельно, котлеты отдельно\n"
   ]
  },
  {
   "cell_type": "code",
   "execution_count": null,
   "id": "555a0462",
   "metadata": {},
   "outputs": [],
   "source": [
    "n, m = int(input()), int(input())\n",
    "k1, k2 = int(input()), int(input())\n",
    "\n",
    "x = int(n * (k2 - m) / (k2 - k1))\n",
    "y = int(n - x)\n",
    "print(f'{x} {y}')"
   ]
  }
 ],
 "metadata": {
  "kernelspec": {
   "display_name": "Python 3 (ipykernel)",
   "language": "python",
   "name": "python3"
  },
  "language_info": {
   "codemirror_mode": {
    "name": "ipython",
    "version": 3
   },
   "file_extension": ".py",
   "mimetype": "text/x-python",
   "name": "python",
   "nbconvert_exporter": "python",
   "pygments_lexer": "ipython3",
   "version": "3.9.13"
  }
 },
 "nbformat": 4,
 "nbformat_minor": 5
}
